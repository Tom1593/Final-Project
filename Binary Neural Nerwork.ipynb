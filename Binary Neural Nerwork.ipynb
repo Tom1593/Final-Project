{
 "cells": [
  {
   "cell_type": "code",
   "execution_count": 4,
   "metadata": {},
   "outputs": [
    {
     "name": "stdout",
     "output_type": "stream",
     "text": [
      "Collecting larq\n",
      "  Downloading larq-0.12.2-py3-none-any.whl (65 kB)\n",
      "Requirement already satisfied: numpy<2.0,>=1.15.4 in g:\\anaconda3\\lib\\site-packages (from larq) (1.20.3)\n",
      "Collecting terminaltables>=3.1.0\n",
      "  Downloading terminaltables-3.1.10-py2.py3-none-any.whl (15 kB)\n",
      "Installing collected packages: terminaltables, larq\n",
      "Successfully installed larq-0.12.2 terminaltables-3.1.10\n",
      "Note: you may need to restart the kernel to use updated packages.\n"
     ]
    }
   ],
   "source": [
    "pip install larq"
   ]
  },
  {
   "cell_type": "code",
   "execution_count": 4,
   "metadata": {},
   "outputs": [],
   "source": [
    "from numpy import mean\n",
    "from numpy import std\n",
    "from tensorflow import keras\n",
    "from sklearn.model_selection import KFold\n",
    "from keras.datasets import mnist\n",
    "#from keras.utils import to_categorical\n",
    "from matplotlib import pyplot as plt\n",
    "import tensorflow as tf\n",
    "import larq as lq"
   ]
  },
  {
   "cell_type": "code",
   "execution_count": 5,
   "metadata": {},
   "outputs": [],
   "source": [
    "import os\n",
    "os.environ[\"CUDA_VISIBLE_DEVICES\"] = \"-1\""
   ]
  },
  {
   "cell_type": "code",
   "execution_count": 6,
   "metadata": {},
   "outputs": [],
   "source": [
    "kwargs = dict(input_quantizer=\"ste_sign\",\n",
    "              kernel_quantizer=\"ste_sign\",\n",
    "              kernel_constraint=\"weight_clip\",\n",
    "              use_bias=False)"
   ]
  },
  {
   "cell_type": "code",
   "execution_count": 7,
   "metadata": {},
   "outputs": [],
   "source": [
    "def load_dataset():\n",
    "    # load dataset\n",
    "    (trainX, trainY), (testX, testY) = mnist.load_data()\n",
    "    # reshape dataset to have a single channel\n",
    "    trainX = trainX.reshape((trainX.shape[0], 28, 28, 1))\n",
    "    testX = testX.reshape((testX.shape[0], 28, 28, 1))\n",
    "    # one hot encode target values\n",
    "    trainY = tf.keras.utils.to_categorical(trainY)\n",
    "    testY = tf.keras.utils.to_categorical(testY)\n",
    "    return trainX, trainY, testX, testY"
   ]
  },
  {
   "cell_type": "code",
   "execution_count": 8,
   "metadata": {},
   "outputs": [],
   "source": [
    "# scale pixels\n",
    "def prep_pixels(train, test):\n",
    "    # convert from integers to floats\n",
    "    train_norm = train.astype('float32')\n",
    "    test_norm = test.astype('float32')\n",
    "    # normalize to range 0-1\n",
    "    train_norm = train_norm / 255.0\n",
    "    test_norm = test_norm / 255.0\n",
    "    # return normalized images\n",
    "    return train_norm, test_norm"
   ]
  },
  {
   "cell_type": "code",
   "execution_count": 9,
   "metadata": {},
   "outputs": [],
   "source": [
    "def define_model():\n",
    "    model = tf.keras.models.Sequential([\n",
    "        lq.layers.QuantConv2D(128, 3,\n",
    "                              kernel_quantizer=\"ste_sign\",\n",
    "                              kernel_constraint=\"weight_clip\",\n",
    "                              use_bias=False,\n",
    "                              input_shape=(28, 28, 1)),\n",
    "        tf.keras.layers.BatchNormalization(momentum=0.999, scale=False),\n",
    "\n",
    "        lq.layers.QuantConv2D(128, 3, padding=\"same\", **kwargs),\n",
    "        tf.keras.layers.MaxPool2D(pool_size=(2, 2), strides=(2, 2)),\n",
    "        tf.keras.layers.BatchNormalization(momentum=0.999, scale=False),\n",
    "\n",
    "        lq.layers.QuantConv2D(256, 3, padding=\"same\", **kwargs),\n",
    "        tf.keras.layers.BatchNormalization(momentum=0.999, scale=False),\n",
    "\n",
    "        lq.layers.QuantConv2D(256, 3, padding=\"same\", **kwargs),\n",
    "        tf.keras.layers.MaxPool2D(pool_size=(2, 2), strides=(2, 2)),\n",
    "        tf.keras.layers.BatchNormalization(momentum=0.999, scale=False),\n",
    "\n",
    "        lq.layers.QuantConv2D(512, 3, padding=\"same\", **kwargs),\n",
    "        tf.keras.layers.BatchNormalization(momentum=0.999, scale=False),\n",
    "\n",
    "        lq.layers.QuantConv2D(512, 3, padding=\"same\", **kwargs),\n",
    "        tf.keras.layers.MaxPool2D(pool_size=(2, 2), strides=(2, 2)),\n",
    "        tf.keras.layers.BatchNormalization(momentum=0.999, scale=False),\n",
    "        tf.keras.layers.Flatten(),\n",
    "\n",
    "        lq.layers.QuantDense(1024, **kwargs),\n",
    "        tf.keras.layers.BatchNormalization(momentum=0.999, scale=False),\n",
    "\n",
    "        lq.layers.QuantDense(1024, **kwargs),\n",
    "        tf.keras.layers.BatchNormalization(momentum=0.999, scale=False),\n",
    "\n",
    "        lq.layers.QuantDense(10, **kwargs),\n",
    "        tf.keras.layers.BatchNormalization(momentum=0.999, scale=False),\n",
    "        tf.keras.layers.Activation(\"softmax\")\n",
    "    ])\n",
    "    opt = keras.optimizers.Adam(learning_rate=0.0001, epsilon=1e-6)\n",
    "    model.compile(optimizer=opt, loss='categorical_crossentropy', metrics=['accuracy'])\n",
    "    return model"
   ]
  },
  {
   "cell_type": "code",
   "execution_count": 10,
   "metadata": {},
   "outputs": [],
   "source": [
    "def evaluate_model(dataX, dataY, n_folds=5):\n",
    "    scores, histories = list(), list()\n",
    "    # prepare cross validation\n",
    "    kfold = KFold(n_folds, shuffle=True, random_state=1)\n",
    "    # enumerate splits\n",
    "    for train_ix, test_ix in kfold.split(dataX):\n",
    "        # define model\n",
    "        model = define_model1()\n",
    "        # select rows for train and test\n",
    "        trainX, trainY, testX, testY = dataX[train_ix], dataY[train_ix], dataX[test_ix], dataY[test_ix]\n",
    "        # fit model\n",
    "        history = model.fit(trainX, trainY, epochs=10, batch_size=32, validation_data=(testX, testY), verbose='auto')\n",
    "        # evaluate model\n",
    "        _, acc = model.evaluate(testX, testY, verbose='auto')\n",
    "        print('> %.3f' % (acc * 100.0))\n",
    "        # stores scores\n",
    "        scores.append(acc)\n",
    "        histories.append(history)\n",
    "    return scores, histories"
   ]
  },
  {
   "cell_type": "code",
   "execution_count": 11,
   "metadata": {},
   "outputs": [],
   "source": [
    "def summarize_diagnostics(histories):\n",
    "    for i in range(len(histories)):\n",
    "        # plot loss\n",
    "        plt.subplot(2, 1, 1)\n",
    "        plt.title('Cross Entropy Loss')\n",
    "        plt.plot(histories[i].history['loss'], color='blue', label='train')\n",
    "        plt.plot(histories[i].history['val_loss'], color='orange', label='test')\n",
    "        # plot accuracy\n",
    "        plt.subplot(2, 1, 2)\n",
    "        plt.title('Classification Accuracy')\n",
    "        plt.plot(histories[i].history['accuracy'], color='blue', label='train')\n",
    "        plt.plot(histories[i].history['val_accuracy'], color='orange', label='test')\n",
    "    plt.show()"
   ]
  },
  {
   "cell_type": "code",
   "execution_count": 12,
   "metadata": {},
   "outputs": [],
   "source": [
    "def summarize_performance(scores):\n",
    "    # print summary\n",
    "    print('Accuracy: mean=%.3f std=%.3f, n=%d' % (mean(scores) * 100, std(scores) * 100, len(scores)))\n",
    "    # box and whisker plots of results\n",
    "    plt.boxplot(scores)\n",
    "    plt.show()\n"
   ]
  },
  {
   "cell_type": "code",
   "execution_count": 37,
   "metadata": {},
   "outputs": [],
   "source": [
    "def define_model1():\n",
    "    model = tf.keras.models.Sequential([\n",
    "    tf.keras.layers.Flatten(),\n",
    "    lq.layers.QuantDense(128,\n",
    "                        kernel_quantizer=\"ste_sign\",\n",
    "                        kernel_constraint=\"weight_clip\",\n",
    "                        use_bias=False,\n",
    "                        input_shape=(784,)),\n",
    "        \n",
    "        lq.layers.QuantDense(1024, **kwargs),\n",
    "        #tf.keras.layers.BatchNormalization(momentum=0.999, scale=False),\n",
    "\n",
    "        lq.layers.QuantDense(1024, **kwargs),\n",
    "        #tf.keras.layers.BatchNormalization(momentum=0.999, scale=False),\n",
    "\n",
    "        lq.layers.QuantDense(10, **kwargs),\n",
    "        #tf.keras.layers.BatchNormalization(momentum=0.999, scale=False),\n",
    "        tf.keras.layers.Activation(\"softmax\")\n",
    "    ])\n",
    "    opt = keras.optimizers.Adam(learning_rate=0.0001, epsilon=1e-6)\n",
    "    model.compile(optimizer=opt, loss='categorical_crossentropy', metrics=['accuracy'])\n",
    "    return model"
   ]
  },
  {
   "cell_type": "code",
   "execution_count": 14,
   "metadata": {},
   "outputs": [],
   "source": [
    "# run the test harness for evaluating a model\n",
    "def run_test_harness():\n",
    "    # load dataset\n",
    "    trainX, trainY, testX, testY = load_dataset()\n",
    "    # prepare pixel data\n",
    "    trainX, testX = prep_pixels(trainX, testX)\n",
    "    # evaluate model\n",
    "    scores, histories = evaluate_model(trainX, trainY)\n",
    "    # learning curves\n",
    "    summarize_diagnostics(histories)\n",
    "    # summarize estimated performance\n",
    "    summarize_performance(scores)"
   ]
  },
  {
   "cell_type": "code",
   "execution_count": 27,
   "metadata": {},
   "outputs": [],
   "source": [
    "# entry point, run the test harness\n",
    "#run_test_harness()\n",
    "# load dataset\n",
    "trainX, trainY, testX, testY = load_dataset()\n",
    "# prepare pixel data\n",
    "trainX, testX = prep_pixels(trainX, testX)\n",
    "trainX = trainX[0:10000,:,:]\n",
    "trainY = trainY[0:10000,:]\n",
    "# evaluate model\n",
    "#scores, histories = evaluate_model(trainX, trainY)\n",
    "# learning curves\n",
    "#summarize_diagnostics(histories)\n",
    "# summarize estimated performance\n",
    "#summarize_performance(scores)"
   ]
  },
  {
   "cell_type": "code",
   "execution_count": 16,
   "metadata": {},
   "outputs": [
    {
     "data": {
      "text/plain": [
       "(10000, 28, 28, 1)"
      ]
     },
     "execution_count": 16,
     "metadata": {},
     "output_type": "execute_result"
    }
   ],
   "source": [
    "trainX.shape"
   ]
  },
  {
   "cell_type": "code",
   "execution_count": 17,
   "metadata": {},
   "outputs": [
    {
     "data": {
      "text/plain": [
       "(10000, 10)"
      ]
     },
     "execution_count": 17,
     "metadata": {},
     "output_type": "execute_result"
    }
   ],
   "source": [
    "trainY.shape"
   ]
  },
  {
   "cell_type": "code",
   "execution_count": 38,
   "metadata": {},
   "outputs": [
    {
     "name": "stdout",
     "output_type": "stream",
     "text": [
      "Epoch 1/10\n",
      "250/250 [==============================] - 3s 11ms/step - loss: 26.7511 - accuracy: 0.3204 - val_loss: 16.4845 - val_accuracy: 0.4775\n",
      "Epoch 2/10\n",
      "250/250 [==============================] - 3s 11ms/step - loss: 14.4714 - accuracy: 0.5386 - val_loss: 12.7931 - val_accuracy: 0.5900\n",
      "Epoch 3/10\n",
      "250/250 [==============================] - 3s 11ms/step - loss: 12.0531 - accuracy: 0.5962 - val_loss: 11.1892 - val_accuracy: 0.6230\n",
      "Epoch 4/10\n",
      "250/250 [==============================] - 3s 11ms/step - loss: 10.3583 - accuracy: 0.6478 - val_loss: 10.2021 - val_accuracy: 0.6485\n",
      "Epoch 5/10\n",
      "250/250 [==============================] - 3s 11ms/step - loss: 9.4192 - accuracy: 0.6659 - val_loss: 9.3186 - val_accuracy: 0.6685\n",
      "Epoch 6/10\n",
      "250/250 [==============================] - 3s 11ms/step - loss: 8.7796 - accuracy: 0.6786 - val_loss: 8.1700 - val_accuracy: 0.6955\n",
      "Epoch 7/10\n",
      "250/250 [==============================] - 3s 11ms/step - loss: 8.5550 - accuracy: 0.6826 - val_loss: 8.2681 - val_accuracy: 0.6875\n",
      "Epoch 8/10\n",
      "250/250 [==============================] - 3s 11ms/step - loss: 8.1503 - accuracy: 0.6945 - val_loss: 7.8358 - val_accuracy: 0.6870\n",
      "Epoch 9/10\n",
      "250/250 [==============================] - 3s 11ms/step - loss: 7.7781 - accuracy: 0.7015 - val_loss: 7.1168 - val_accuracy: 0.7065\n",
      "Epoch 10/10\n",
      "250/250 [==============================] - 3s 11ms/step - loss: 6.9708 - accuracy: 0.7105 - val_loss: 6.9743 - val_accuracy: 0.7040\n",
      "> 70.400\n",
      "Epoch 1/10\n",
      "250/250 [==============================] - 3s 11ms/step - loss: 24.5957 - accuracy: 0.3501 - val_loss: 16.1679 - val_accuracy: 0.5030\n",
      "Epoch 2/10\n",
      "250/250 [==============================] - 3s 11ms/step - loss: 13.7166 - accuracy: 0.5594 - val_loss: 11.7413 - val_accuracy: 0.6280\n",
      "Epoch 3/10\n",
      "250/250 [==============================] - 3s 11ms/step - loss: 11.0877 - accuracy: 0.6233 - val_loss: 10.3874 - val_accuracy: 0.6430\n",
      "Epoch 4/10\n",
      "250/250 [==============================] - 3s 11ms/step - loss: 9.5900 - accuracy: 0.6628 - val_loss: 9.4074 - val_accuracy: 0.6920\n",
      "Epoch 5/10\n",
      "250/250 [==============================] - 3s 11ms/step - loss: 8.8826 - accuracy: 0.6840 - val_loss: 9.4446 - val_accuracy: 0.6825\n",
      "Epoch 6/10\n",
      "250/250 [==============================] - 3s 11ms/step - loss: 8.3798 - accuracy: 0.7025 - val_loss: 9.0407 - val_accuracy: 0.7145\n",
      "Epoch 7/10\n",
      "250/250 [==============================] - 3s 11ms/step - loss: 7.8429 - accuracy: 0.7113 - val_loss: 8.7763 - val_accuracy: 0.6920\n",
      "Epoch 8/10\n",
      "250/250 [==============================] - 3s 11ms/step - loss: 7.4953 - accuracy: 0.7212 - val_loss: 8.6527 - val_accuracy: 0.7055\n",
      "Epoch 9/10\n",
      "250/250 [==============================] - 3s 11ms/step - loss: 6.8826 - accuracy: 0.7270 - val_loss: 7.9691 - val_accuracy: 0.6985\n",
      "Epoch 10/10\n",
      "250/250 [==============================] - 3s 11ms/step - loss: 6.9721 - accuracy: 0.7171 - val_loss: 7.4304 - val_accuracy: 0.7065\n",
      "> 70.650\n",
      "Epoch 1/10\n",
      "250/250 [==============================] - 3s 12ms/step - loss: 26.3217 - accuracy: 0.3192 - val_loss: 17.3437 - val_accuracy: 0.4695\n",
      "Epoch 2/10\n",
      "250/250 [==============================] - 3s 11ms/step - loss: 14.2444 - accuracy: 0.5354 - val_loss: 14.0312 - val_accuracy: 0.5665\n",
      "Epoch 3/10\n",
      "250/250 [==============================] - 3s 11ms/step - loss: 11.5442 - accuracy: 0.6160 - val_loss: 12.3242 - val_accuracy: 0.6070\n",
      "Epoch 4/10\n",
      "250/250 [==============================] - 3s 11ms/step - loss: 9.8498 - accuracy: 0.6647 - val_loss: 11.5116 - val_accuracy: 0.6500\n",
      "Epoch 5/10\n",
      "250/250 [==============================] - 3s 11ms/step - loss: 8.9680 - accuracy: 0.6846 - val_loss: 10.2310 - val_accuracy: 0.6710\n",
      "Epoch 6/10\n",
      "250/250 [==============================] - 3s 11ms/step - loss: 8.7487 - accuracy: 0.6880 - val_loss: 10.3241 - val_accuracy: 0.6615\n",
      "Epoch 7/10\n",
      "250/250 [==============================] - 3s 11ms/step - loss: 8.1184 - accuracy: 0.7014 - val_loss: 9.7683 - val_accuracy: 0.6735\n",
      "Epoch 8/10\n",
      "250/250 [==============================] - 3s 11ms/step - loss: 7.6878 - accuracy: 0.7061 - val_loss: 8.3748 - val_accuracy: 0.6910\n",
      "Epoch 9/10\n",
      "250/250 [==============================] - 3s 11ms/step - loss: 7.6720 - accuracy: 0.7053 - val_loss: 9.0403 - val_accuracy: 0.6855\n",
      "Epoch 10/10\n",
      "250/250 [==============================] - 3s 11ms/step - loss: 7.3477 - accuracy: 0.7136 - val_loss: 8.9487 - val_accuracy: 0.6835\n",
      "> 68.350\n",
      "Epoch 1/10\n",
      "250/250 [==============================] - 3s 12ms/step - loss: 24.9365 - accuracy: 0.3489 - val_loss: 14.2813 - val_accuracy: 0.5445\n",
      "Epoch 2/10\n",
      "250/250 [==============================] - 3s 11ms/step - loss: 13.0995 - accuracy: 0.5726 - val_loss: 12.0185 - val_accuracy: 0.6045\n",
      "Epoch 3/10\n",
      "250/250 [==============================] - 3s 11ms/step - loss: 10.4837 - accuracy: 0.6400 - val_loss: 10.9822 - val_accuracy: 0.6280\n",
      "Epoch 4/10\n",
      "250/250 [==============================] - 3s 11ms/step - loss: 9.4424 - accuracy: 0.6780 - val_loss: 10.0298 - val_accuracy: 0.6650\n",
      "Epoch 5/10\n",
      "250/250 [==============================] - 3s 11ms/step - loss: 9.0651 - accuracy: 0.6874 - val_loss: 9.0386 - val_accuracy: 0.6870\n",
      "Epoch 6/10\n",
      "250/250 [==============================] - 3s 11ms/step - loss: 8.3794 - accuracy: 0.6964 - val_loss: 9.2937 - val_accuracy: 0.6845\n",
      "Epoch 7/10\n",
      "250/250 [==============================] - 3s 11ms/step - loss: 8.0211 - accuracy: 0.6973 - val_loss: 8.2226 - val_accuracy: 0.7055\n",
      "Epoch 8/10\n",
      "250/250 [==============================] - 3s 11ms/step - loss: 7.6429 - accuracy: 0.7059 - val_loss: 8.0424 - val_accuracy: 0.7145\n",
      "Epoch 9/10\n",
      "250/250 [==============================] - 3s 11ms/step - loss: 7.3051 - accuracy: 0.7141 - val_loss: 7.9784 - val_accuracy: 0.7090\n",
      "Epoch 10/10\n",
      "250/250 [==============================] - 3s 11ms/step - loss: 7.0542 - accuracy: 0.7225 - val_loss: 7.9737 - val_accuracy: 0.7180\n",
      "> 71.800\n",
      "Epoch 1/10\n",
      "250/250 [==============================] - 4s 13ms/step - loss: 25.1883 - accuracy: 0.3405 - val_loss: 17.1747 - val_accuracy: 0.4830\n",
      "Epoch 2/10\n",
      "250/250 [==============================] - 3s 11ms/step - loss: 14.1380 - accuracy: 0.5491 - val_loss: 13.1148 - val_accuracy: 0.5640\n",
      "Epoch 3/10\n",
      "250/250 [==============================] - 3s 11ms/step - loss: 11.6828 - accuracy: 0.6061 - val_loss: 12.3679 - val_accuracy: 0.6050\n",
      "Epoch 4/10\n",
      "250/250 [==============================] - 3s 12ms/step - loss: 10.3093 - accuracy: 0.6339 - val_loss: 11.5280 - val_accuracy: 0.5975\n",
      "Epoch 5/10\n",
      "250/250 [==============================] - 3s 12ms/step - loss: 9.6738 - accuracy: 0.6494 - val_loss: 10.5104 - val_accuracy: 0.6430\n",
      "Epoch 6/10\n",
      "250/250 [==============================] - 3s 12ms/step - loss: 9.0084 - accuracy: 0.6597 - val_loss: 9.6097 - val_accuracy: 0.6490\n",
      "Epoch 7/10\n",
      "250/250 [==============================] - 3s 12ms/step - loss: 8.3127 - accuracy: 0.6678 - val_loss: 8.9857 - val_accuracy: 0.6540\n",
      "Epoch 8/10\n",
      "250/250 [==============================] - 3s 12ms/step - loss: 7.7602 - accuracy: 0.6789 - val_loss: 8.4961 - val_accuracy: 0.6455\n",
      "Epoch 9/10\n",
      "250/250 [==============================] - 3s 12ms/step - loss: 7.2531 - accuracy: 0.6798 - val_loss: 8.1930 - val_accuracy: 0.6660\n",
      "Epoch 10/10\n",
      "250/250 [==============================] - 3s 12ms/step - loss: 7.2915 - accuracy: 0.6711 - val_loss: 8.0931 - val_accuracy: 0.6555\n",
      "> 65.550\n"
     ]
    }
   ],
   "source": [
    "scores, histories = evaluate_model(trainX, trainY)"
   ]
  },
  {
   "cell_type": "code",
   "execution_count": 35,
   "metadata": {},
   "outputs": [
    {
     "data": {
      "image/png": "[encoded data removed]",
      "text/plain": [
       "<Figure size 432x288 with 2 Axes>"
      ]
     },
     "metadata": {
      "needs_background": "light"
     },
     "output_type": "display_data"
    }
   ],
   "source": [
    "summarize_diagnostics(histories)"
   ]
  },
  {
   "cell_type": "code",
   "execution_count": 36,
   "metadata": {},
   "outputs": [
    {
     "name": "stdout",
     "output_type": "stream",
     "text": [
      "Accuracy: mean=66.930 std=1.489, n=5\n"
     ]
    },
    {
     "data": {
      "image/png": "[encoded data removed]",
      "text/plain": [
       "<Figure size 432x288 with 1 Axes>"
      ]
     },
     "metadata": {
      "needs_background": "light"
     },
     "output_type": "display_data"
    }
   ],
   "source": [
    "summarize_performance(scores)"
   ]
  },
  {
   "cell_type": "code",
   "execution_count": null,
   "metadata": {},
   "outputs": [],
   "source": [
    "model.summery()"
   ]
  }
 ],
 "metadata": {
  "kernelspec": {
   "display_name": "Python 3 (ipykernel)",
   "language": "python",
   "name": "python3"
  },
  "language_info": {
   "codemirror_mode": {
    "name": "ipython",
    "version": 3
   },
   "file_extension": ".py",
   "mimetype": "text/x-python",
   "name": "python",
   "nbconvert_exporter": "python",
   "pygments_lexer": "ipython3",
   "version": "3.9.7"
  }
 },
 "nbformat": 4,
 "nbformat_minor": 4
}
